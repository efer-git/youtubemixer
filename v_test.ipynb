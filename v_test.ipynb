{
 "cells": [
  {
   "cell_type": "code",
   "execution_count": 1,
   "metadata": {},
   "outputs": [],
   "source": [
    "import pafy\n",
    "import vlc\n",
    "import time\n",
    "from ctypes import *\n",
    "import pprint\n",
    "#cdll.LoadLibrary(\"libvlc.so.5\") \n",
    "#libvlc = CDLL(\"libvlc.so.5\")\n",
    "\n",
    "url = \"https://www.youtube.com/watch?v=lKrJp9_UB4M\"\n",
    "video = pafy.new(url)\n",
    "#best = video.getbest()\n",
    "best = video.getbestaudio() # you can get audio only!\n",
    "#Pafy.getbestaudio([preftype=\"any\"][, ftypestrict=True])\n",
    "playurl = best.url\n",
    "#playurl = 'https://r4---sn-3u-bh2s.googlevideo.com/videoplayback?keepalive=yes&ipbits=0&txp=5411222&clen=3461799&key=yt6&requiressl=yes&sparams=clen%2Cdur%2Cei%2Cgir%2Cid%2Cinitcwndbps%2Cip%2Cipbits%2Citag%2Ckeepalive%2Clmt%2Cmime%2Cmm%2Cmn%2Cms%2Cmv%2Cpl%2Crequiressl%2Csource%2Cexpire&gir=yes&expire=1540887699&lmt=1540196015878161&c=WEB&ei=MsDXW7H6NIm6qQGv-ae4Aw&mt=1540865977&fvip=3&dur=213.861&id=o-AGzhDFjJD_1F8EM5Et34TBLDD0sTvwh7gcGmx0j4v6x4&initcwndbps=1213750&pl=19&source=youtube&mv=m&mime=audio%2Fwebm&ms=au%2Conr&ip=218.153.172.25&mm=31%2C26&mn=sn-3u-bh2s%2Csn-i3b7knld&itag=251&signature=D24438B1633A1445C373DD7D11BAC20DFBCB39CA.5BA3ECD482F83BBE33C26EAACCC87900AF6CBF72&ratebypass=yes?start=12?end=24'"
   ]
  },
  {
   "cell_type": "code",
   "execution_count": 3,
   "metadata": {},
   "outputs": [
    {
     "name": "stdout",
     "output_type": "stream",
     "text": [
      "0.12380792945623398\n",
      "31241\n",
      "X\n"
     ]
    }
   ],
   "source": [
    "\n",
    "# libvlc.libvlc_media_player_get_time(player) --> ms\n",
    "Instance = vlc.Instance()\n",
    "\n",
    "player = Instance.media_player_new()\n",
    "Media = Instance.media_new(playurl)\n",
    "Media.get_mrl()\n",
    "player.set_media(Media)\n",
    "\n",
    "player.play()\n",
    "vlc.libvlc_media_player_set_position(player,c_float(0.0)) # set start point\n",
    "eq = vlc.libvlc_audio_equalizer_new_from_preset(0)\n",
    "vlc.libvlc_media_player_set_equalizer(player,eq)\n",
    "time.sleep(1)\n",
    "\n",
    "while True:\n",
    "    if vlc.libvlc_media_player_get_time(player)>30000:\n",
    "        print(vlc.libvlc_media_player_get_position(player))\n",
    "        time.sleep(1)\n",
    "        print(vlc.libvlc_media_player_get_time(player))\n",
    "        print('X')\n",
    "        player.stop()\n",
    "        break;\n"
   ]
  },
  {
   "cell_type": "code",
   "execution_count": null,
   "metadata": {},
   "outputs": [],
   "source": [
    "#player.pause() #-- to pause video\n",
    "#player.resume()  #-- resume paused video.\n",
    "player.stop()  #-- to stop/end video"
   ]
  },
  {
   "cell_type": "code",
   "execution_count": 51,
   "metadata": {},
   "outputs": [
    {
     "name": "stdout",
     "output_type": "stream",
     "text": [
      "196101\n",
      "['00', '06', '13']\n",
      "373000\n"
     ]
    }
   ],
   "source": [
    "\n",
    "print('196101')\n",
    "print(video.duration.split(\":\")) #HHMMSS\n",
    "# this is approximation\n",
    "# if you can make this in ms \n",
    "mss = (int(video.duration.split(\":\")[0])*60*60+int(video.duration.split(\":\")[1])*60+int(video.duration.split(\":\")[2]))*1000\n",
    "print(mss)\n",
    "\n",
    "#print(playurl)\n",
    "#Media.get_duration()"
   ]
  },
  {
   "cell_type": "code",
   "execution_count": 4,
   "metadata": {},
   "outputs": [
    {
     "name": "stdout",
     "output_type": "stream",
     "text": [
      "songblock lKrJp9_UB4M finished\n"
     ]
    }
   ],
   "source": [
    "#songblock = {\"url\":\"https://www.youtube.com/watch?v=xoSRIi-SnDc\",\"start\":\"00:00:13\",\"end\":\"00:02:01\"}\n",
    "def tomillisecond(timestamp):\n",
    "    T = timestamp.split(':')\n",
    "    return (int(T[0])*60*60+int(T[1])*60+int(T[2]))*1000\n",
    "\n",
    "class songBlock:\n",
    "    def __init__(self,songblock):\n",
    "        self.url = songblock[\"url\"]\n",
    "        self.id = self.url.split(\"?v=\")[1]\n",
    "        self.video = pafy.new(songblock[\"url\"])\n",
    "        try:\n",
    "            self.local_start = songblock[\"start\"]\n",
    "        except:\n",
    "            self.local_start = \"00:00:00\"\n",
    "        try:\n",
    "            self.local_end = songblock[\"end\"]\n",
    "        except:\n",
    "            self.local_end = self.video.duration\n",
    "        \n",
    "        self.global_start = \"00:00:00\"\n",
    "        self.global_end = \"00:00:00\"\n",
    "    \n",
    "    def play(self):\n",
    "        s_pos = tomillisecond(self.local_start)/tomillisecond(self.video.duration)\n",
    "        e_pos = tomillisecond(self.local_end)/tomillisecond(self.video.duration)\n",
    "        s_dur = tomillisecond(self.local_end)-tomillisecond(self.local_start)    \n",
    "        \n",
    "        best = self.video.getbestaudio() # you can get audio only!\n",
    "        playurl = best.url\n",
    "        Instance = vlc.Instance()\n",
    "        player = Instance.media_player_new()\n",
    "        Media = Instance.media_new(playurl)\n",
    "        Media.get_mrl()\n",
    "        player.set_media(Media)\n",
    "        player.play()\n",
    "        vlc.libvlc_media_player_set_position(player,c_float(s_pos)) # set start point\n",
    "        time.sleep(0.1)\n",
    "        while True:\n",
    "            #if vlc.libvlc_media_player_get_time(player)>tomillisecond(self.local_end):\n",
    "            if vlc.libvlc_media_player_get_position(player)>=e_pos:\n",
    "                print(\"songblock {} finished\".format(self.id))\n",
    "                player.stop()\n",
    "                break;\n",
    "                \n",
    "    def loop(self,count): # seems more smooth than { self.play x count }\n",
    "        s_pos = tomillisecond(self.local_start)/tomillisecond(self.video.duration)\n",
    "        s_dur = tomillisecond(self.local_end)-tomillisecond(self.local_start)\n",
    "        \n",
    "        \n",
    "        best = self.video.getbestaudio() # you can get audio only!\n",
    "        playurl = best.url\n",
    "        Instance = vlc.Instance()\n",
    "        player = Instance.media_player_new()\n",
    "        Media = Instance.media_new(playurl)\n",
    "        Media.get_mrl()\n",
    "        player.set_media(Media)\n",
    "        player.play()\n",
    "        time.sleep(0.1)\n",
    "        for x in range(0,count):\n",
    "            vlc.libvlc_media_player_set_position(player,c_float(s_pos)) # set start point\n",
    "            while True:\n",
    "                if vlc.libvlc_media_player_get_time(player)>tomillisecond(self.local_end):\n",
    "                    break;\n",
    "        \n",
    "        player.stop()\n",
    "        \n",
    "    #def eq(self):\n",
    "        \n",
    "    \n",
    "class mixer():\n",
    "    def __init__(self):\n",
    "        self.songlist = songlist\n",
    " \n",
    "\n",
    "\n",
    "#s = songBlock({\"url\":\"https://www.youtube.com/watch?v=xoSRIi-SnDc\",\"start\":\"00:00:13\",\"end\":\"00:00:15\"})\n",
    "s2 = songBlock({\"url\":\"https://www.youtube.com/watch?v=lKrJp9_UB4M\",\"start\":\"00:04:00\"})\n",
    "#s.play()\n",
    "s2.play()\n",
    "#print(tomillisecond(s.local_end)-tomillisecond(s.local_start))\n",
    "    "
   ]
  },
  {
   "cell_type": "code",
   "execution_count": null,
   "metadata": {},
   "outputs": [],
   "source": [
    "from multiprocessing import Pool\n",
    "pool = Pool(processes=2)\n",
    "pool.map(nonSelen.updateByTaxon,qList)"
   ]
  },
  {
   "cell_type": "code",
   "execution_count": null,
   "metadata": {},
   "outputs": [],
   "source": [
    "n_eq=vlc.libvlc_audio_equalizer_get_preset_count()#vlc.libvlc_audio_equalizer_get_band_count() \n",
    "for idx in range(0,n_eq):\n",
    "    print(vlc.libvlc_audio_equalizer_get_preset_name(idx))"
   ]
  },
  {
   "cell_type": "code",
   "execution_count": 12,
   "metadata": {},
   "outputs": [
    {
     "name": "stdout",
     "output_type": "stream",
     "text": [
      "{'url': 'https://www.youtube.com/watch?v=xoSRIi-SnDc', 'start': '00:00:00', 'end': '00:00:05', 'equalizer': 'Flat'}\n",
      "songblock xoSRIi-SnDc finished\n",
      "songblock xoSRIi-SnDc finished\n",
      "songblock xoSRIi-SnDc finished\n",
      "songblock xoSRIi-SnDc finished\n",
      "songblock xoSRIi-SnDc finished\n"
     ]
    },
    {
     "data": {
      "text/plain": [
       "0"
      ]
     },
     "execution_count": 12,
     "metadata": {},
     "output_type": "execute_result"
    }
   ],
   "source": [
    "import json\n",
    "with open('./mixml.json') as f:\n",
    "    mixml = json.load(f)\n",
    "    \n",
    "def compiler(mixml):\n",
    "    # get all? songs --> later, some scheduler might needed\n",
    "    # multi-track...? maybe...\n",
    "    # if there is duplicate in songlist --> need to optimize this part\n",
    "    songList = []\n",
    "    for song in mixml['track1']:\n",
    "        songList.append(songBlock(song))\n",
    "    \n",
    "    # play part:\n",
    "    for song in songList:\n",
    "        song.play()\n",
    "        \n",
    "    return 0\n",
    "\n",
    "\n",
    "compiler(mixml)"
   ]
  }
 ],
 "metadata": {
  "kernelspec": {
   "display_name": "Python 3",
   "language": "python",
   "name": "python3"
  },
  "language_info": {
   "codemirror_mode": {
    "name": "ipython",
    "version": 3
   },
   "file_extension": ".py",
   "mimetype": "text/x-python",
   "name": "python",
   "nbconvert_exporter": "python",
   "pygments_lexer": "ipython3",
   "version": "3.6.4"
  }
 },
 "nbformat": 4,
 "nbformat_minor": 2
}
