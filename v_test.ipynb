{
 "cells": [
  {
   "cell_type": "code",
   "execution_count": 1,
   "metadata": {},
   "outputs": [],
   "source": [
    "import pafy\n",
    "import vlc\n",
    "import time\n",
    "from ctypes import *\n",
    "import pprint\n",
    "cdll.LoadLibrary(\"libvlc.so.5\") \n",
    "libvlc = CDLL(\"libvlc.so.5\")\n",
    "\n",
    "url = \"https://www.youtube.com/watch?v=xoSRIi-SnDc\"\n",
    "video = pafy.new(url)\n",
    "#best = video.getbest()\n",
    "best = video.getbestaudio() # you can get audio only!\n",
    "#Pafy.getbestaudio([preftype=\"any\"][, ftypestrict=True])\n",
    "playurl = best.url\n",
    "#playurl = 'https://r4---sn-3u-bh2s.googlevideo.com/videoplayback?keepalive=yes&ipbits=0&txp=5411222&clen=3461799&key=yt6&requiressl=yes&sparams=clen%2Cdur%2Cei%2Cgir%2Cid%2Cinitcwndbps%2Cip%2Cipbits%2Citag%2Ckeepalive%2Clmt%2Cmime%2Cmm%2Cmn%2Cms%2Cmv%2Cpl%2Crequiressl%2Csource%2Cexpire&gir=yes&expire=1540887699&lmt=1540196015878161&c=WEB&ei=MsDXW7H6NIm6qQGv-ae4Aw&mt=1540865977&fvip=3&dur=213.861&id=o-AGzhDFjJD_1F8EM5Et34TBLDD0sTvwh7gcGmx0j4v6x4&initcwndbps=1213750&pl=19&source=youtube&mv=m&mime=audio%2Fwebm&ms=au%2Conr&ip=218.153.172.25&mm=31%2C26&mn=sn-3u-bh2s%2Csn-i3b7knld&itag=251&signature=D24438B1633A1445C373DD7D11BAC20DFBCB39CA.5BA3ECD482F83BBE33C26EAACCC87900AF6CBF72&ratebypass=yes?start=12?end=24'"
   ]
  },
  {
   "cell_type": "code",
   "execution_count": 2,
   "metadata": {},
   "outputs": [
    {
     "name": "stdout",
     "output_type": "stream",
     "text": [
      "0\n",
      "197062\n",
      "X\n"
     ]
    }
   ],
   "source": [
    "\n",
    "# libvlc.libvlc_media_player_get_time(player) --> ms\n",
    "Instance = vlc.Instance()\n",
    "\n",
    "player = Instance.media_player_new()\n",
    "Media = Instance.media_new(playurl)\n",
    "Media.get_mrl()\n",
    "player.set_media(Media)\n",
    "\n",
    "player.play()\n",
    "libvlc.libvlc_media_player_set_position(player,c_float(0.5)) # set start point\n",
    "time.sleep(10)\n",
    "while True:\n",
    "    if libvlc.libvlc_media_player_get_time(player)>30000:\n",
    "        print(libvlc.libvlc_media_player_get_position(player))\n",
    "        time.sleep(1)\n",
    "        print(libvlc.libvlc_media_player_get_time(player))\n",
    "        print('X')\n",
    "        player.stop()\n",
    "        break;\n"
   ]
  },
  {
   "cell_type": "code",
   "execution_count": 27,
   "metadata": {},
   "outputs": [],
   "source": [
    "#player.pause() #-- to pause video\n",
    "#player.resume()  #-- resume paused video.\n",
    "player.stop()  #-- to stop/end video"
   ]
  },
  {
   "cell_type": "code",
   "execution_count": 51,
   "metadata": {},
   "outputs": [
    {
     "name": "stdout",
     "output_type": "stream",
     "text": [
      "196101\n",
      "['00', '06', '13']\n",
      "373000\n"
     ]
    }
   ],
   "source": [
    "\n",
    "print('196101')\n",
    "print(video.duration.split(\":\")) #HHMMSS\n",
    "# this is approximation\n",
    "# if you can make this in ms \n",
    "mss = (int(video.duration.split(\":\")[0])*60*60+int(video.duration.split(\":\")[1])*60+int(video.duration.split(\":\")[2]))*1000\n",
    "print(mss)\n",
    "\n",
    "#print(playurl)\n",
    "#Media.get_duration()"
   ]
  },
  {
   "cell_type": "code",
   "execution_count": 20,
   "metadata": {},
   "outputs": [],
   "source": [
    "songblock = {\"url\":\"https://www.youtube.com/watch?v=xoSRIi-SnDc\",\"start\":\"00:00:13\",\"end\":\"00:02:01\"}\n",
    "def tomillisecond(timestamp):\n",
    "    T = timestamp.split(':')\n",
    "    return (int(T[0])*60*60+int(T[1])*60+int(T[2]))*1000\n",
    "\n",
    "class songBlock:\n",
    "    def __init__(self,url,start,end):\n",
    "        self.url = url\n",
    "        self.local_start = start\n",
    "        self.local_end = end\n",
    "        self.global_start = \"00:00:00\"\n",
    "        self.global_end = \"00:00:00\"\n",
    "    \n",
    "    def play(self):\n",
    "        video = pafy.new(self.url)\n",
    "        s_pos = tomillisecond(self.local_start)/tomillisecond(video.duration)\n",
    "        s_dur = tomillisecond(self.local_end)-tomillisecond(self.local_start)\n",
    "        \n",
    "        \n",
    "        best = video.getbestaudio() # you can get audio only!\n",
    "        playurl = best.url\n",
    "        Instance = vlc.Instance()\n",
    "        player = Instance.media_player_new()\n",
    "        Media = Instance.media_new(playurl)\n",
    "        Media.get_mrl()\n",
    "        player.set_media(Media)\n",
    "        player.play()\n",
    "        libvlc.libvlc_media_player_set_position(player,c_float(s_pos)) # set start point\n",
    "        time.sleep(0.1)\n",
    "        while True:\n",
    "            if libvlc.libvlc_media_player_get_time(player)>tomillisecond(self.local_end):\n",
    "                player.stop()\n",
    "                break;\n",
    "                \n",
    "    def loop(self,count): # seems more smooth than { self.play x count }\n",
    "        video = pafy.new(self.url)\n",
    "        s_pos = tomillisecond(self.local_start)/tomillisecond(video.duration)\n",
    "        s_dur = tomillisecond(self.local_end)-tomillisecond(self.local_start)\n",
    "        \n",
    "        \n",
    "        best = video.getbestaudio() # you can get audio only!\n",
    "        playurl = best.url\n",
    "        Instance = vlc.Instance()\n",
    "        player = Instance.media_player_new()\n",
    "        Media = Instance.media_new(playurl)\n",
    "        Media.get_mrl()\n",
    "        player.set_media(Media)\n",
    "        player.play()\n",
    "        time.sleep(0.1)\n",
    "        for x in range(0,count):\n",
    "            libvlc.libvlc_media_player_set_position(player,c_float(s_pos)) # set start point\n",
    "            while True:\n",
    "                if libvlc.libvlc_media_player_get_time(player)>tomillisecond(self.local_end):\n",
    "                    break;\n",
    "        \n",
    "        player.stop()\n",
    "    \n",
    "    \n",
    "\n",
    " \n",
    "\n",
    "\n",
    "s = songBlock(\"https://www.youtube.com/watch?v=xoSRIi-SnDc\",\"00:00:13\",\"00:00:15\")\n",
    "s.loop(2)\n",
    "#print(tomillisecond(s.local_end)-tomillisecond(s.local_start))\n",
    "    "
   ]
  }
 ],
 "metadata": {
  "kernelspec": {
   "display_name": "Python 3",
   "language": "python",
   "name": "python3"
  },
  "language_info": {
   "codemirror_mode": {
    "name": "ipython",
    "version": 3
   },
   "file_extension": ".py",
   "mimetype": "text/x-python",
   "name": "python",
   "nbconvert_exporter": "python",
   "pygments_lexer": "ipython3",
   "version": "3.6.4"
  }
 },
 "nbformat": 4,
 "nbformat_minor": 2
}
